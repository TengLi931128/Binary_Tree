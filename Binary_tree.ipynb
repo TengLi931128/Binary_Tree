{
 "cells": [
  {
   "cell_type": "code",
   "execution_count": 1,
   "metadata": {},
   "outputs": [
    {
     "data": {
      "text/plain": [
       "'\\nTree\\nLi Teng\\n03.04.2020\\n'"
      ]
     },
     "execution_count": 1,
     "metadata": {},
     "output_type": "execute_result"
    }
   ],
   "source": [
    "'''\n",
    "Binary_Tree\n",
    "Li Teng\n",
    "03.04.2020\n",
    "'''"
   ]
  },
  {
   "cell_type": "code",
   "execution_count": 23,
   "metadata": {},
   "outputs": [],
   "source": [
    "class Node:\n",
    "    def __init__(self,Leaf=0,split_value=0,lchild=None,rchild=None,C=None):\n",
    "        self.Leaf = Leaf\n",
    "        self.split_value = split_value\n",
    "        self.lchild = lchild\n",
    "        self.rchild = rchild\n",
    "\n",
    "class Tree:\n",
    "    def __init__(self,First_split_value):\n",
    "        self.root = Node(First_split_value)\n",
    "        self.queue = []\n",
    "        self.queue.append(self.root)\n",
    "    \n",
    "    def add(self,Leaf=0,split_value=-1,C=None):\n",
    "        New_node = Node(Leaf=Leaf,split_value=split_value,C=C)\n",
    "        Tree_node = self.queue[0]\n",
    "        if Tree_node.lchild == None:\n",
    "            Tree_node.lchild = New_node\n",
    "            self.queue.append(New_node)\n",
    "        else:\n",
    "            Tree_node.rchild = New_node\n",
    "            self.queue.append(New_node)\n",
    "            self.queue.pop(0)\n",
    "\n",
    "    \n",
    "        "
   ]
  },
  {
   "cell_type": "code",
   "execution_count": 33,
   "metadata": {
    "scrolled": true
   },
   "outputs": [
    {
     "name": "stdout",
     "output_type": "stream",
     "text": [
      "0\n",
      "5\n",
      "-7.5\n"
     ]
    }
   ],
   "source": [
    "New_Tree = Tree(0)\n",
    "New_Tree.add(split_value=-5)\n",
    "New_Tree.add(split_value=5)\n",
    "New_Tree.add(split_value=-7.5)\n",
    "New_Tree.add(split_value=-2.5)\n",
    "print(New_Tree.root.split_value)\n",
    "print(New_Tree.root.rchild.split_value)\n",
    "print(New_Tree.root.lchild.lchild.split_value)"
   ]
  },
  {
   "cell_type": "code",
   "execution_count": null,
   "metadata": {},
   "outputs": [],
   "source": []
  }
 ],
 "metadata": {
  "kernelspec": {
   "display_name": "Python 3",
   "language": "python",
   "name": "python3"
  },
  "language_info": {
   "codemirror_mode": {
    "name": "ipython",
    "version": 3
   },
   "file_extension": ".py",
   "mimetype": "text/x-python",
   "name": "python",
   "nbconvert_exporter": "python",
   "pygments_lexer": "ipython3",
   "version": "3.7.4"
  }
 },
 "nbformat": 4,
 "nbformat_minor": 2
}
